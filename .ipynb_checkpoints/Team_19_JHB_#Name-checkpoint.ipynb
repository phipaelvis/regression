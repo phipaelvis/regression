{
  "nbformat": 4,
  "nbformat_minor": 0,
  "metadata": {
    "kernelspec": {
      "display_name": "Python 3",
      "language": "python",
      "name": "python3"
    },
    "language_info": {
      "codemirror_mode": {
        "name": "ipython",
        "version": 3
      },
      "file_extension": ".py",
      "mimetype": "text/x-python",
      "name": "python",
      "nbconvert_exporter": "python",
      "pygments_lexer": "ipython3",
      "version": "3.7.4"
    },
    "colab": {
      "name": "Team_19_JHB_#Name-checkpoint.ipynb",
      "provenance": []
    }
  },
  "cells": [
    {
      "cell_type": "markdown",
      "metadata": {
        "id": "Y9p_XfgL9ud1",
        "colab_type": "text"
      },
      "source": [
        "# Team 19 JHB #Name\n",
        "---\n",
        "<img src=\"https://github.com/Lizette95/notebook_images/blob/master/banner.png?raw=true\" align=\"left\">  "
      ]
    },
    {
      "cell_type": "markdown",
      "metadata": {
        "id": "EVk6yOwi9ud2",
        "colab_type": "text"
      },
      "source": [
        "### Table of Contents\n",
        "---\n",
        "1. [Introduction](#intro)\n",
        "---\n",
        "2. [Module Imports](#imports)\n",
        "---\n",
        "3. [Exploratory Data Analysis](#EDA)\n",
        " * [Something](#1)\n",
        " * [Something else](#2)\n",
        " * [Another thing](#3)\n",
        "---\n",
        "4. [Data Preprocessing](#preprocessing)\n",
        "---\n",
        "5. [Modelling](#modelling)\n",
        "---\n",
        "6. [Performance Evaluation](#evaluation)\n",
        "---\n",
        "7. [Model Analysis](#analysis)\n",
        "---\n",
        "8. [Conclusion](#conclusion)"
      ]
    },
    {
      "cell_type": "markdown",
      "metadata": {
        "id": "gQ4la8uF9ud3",
        "colab_type": "text"
      },
      "source": [
        "<a id=\"intro\"></a>\n",
        "## Introduction\n",
        "\n",
        "* Background on regression/machine learning  \n",
        "* Challenge description  \n",
        "* Data available   \n",
        "* Equations?  \n",
        "### Root Mean Squared Error (RMSE)\n",
        "\n",
        "$$\\sqrt{\\frac{1}{N}\\sum_{i=1}^Ne^2}$$\n",
        "\n",
        "---\n",
        "**Markdown Cheatsheet:**\n",
        "https://github.com/adam-p/markdown-here/wiki/Markdown-Cheatsheet\n",
        "\n",
        "---"
      ]
    },
    {
      "cell_type": "markdown",
      "metadata": {
        "id": "2nSuhypG9ud4",
        "colab_type": "text"
      },
      "source": [
        "<a id=\"imports\"></a>\n",
        "## Module Imports"
      ]
    },
    {
      "cell_type": "code",
      "metadata": {
        "id": "tUHHBrCQ9ud4",
        "colab_type": "code",
        "colab": {}
      },
      "source": [
        "# Ignore warnings\n",
        "import warnings\n",
        "warnings.simplefilter(action='ignore')\n",
        "\n",
        "# Import modules\n",
        "import numpy as np\n",
        "import pandas as pd\n",
        "import seaborn as sns\n",
        "import matplotlib.pyplot as plt\n",
        "\n",
        "# Display\n",
        "%matplotlib inline\n",
        "sns.set_style(\"white\")"
      ],
      "execution_count": 0,
      "outputs": []
    },
    {
      "cell_type": "markdown",
      "metadata": {
        "id": "EASJvg9l9ud8",
        "colab_type": "text"
      },
      "source": [
        "<a id=\"EDA\"></a>\n",
        "## Exploratory Data Analysis"
      ]
    },
    {
      "cell_type": "code",
      "metadata": {
        "id": "lRePcacr9ud9",
        "colab_type": "code",
        "colab": {}
      },
      "source": [
        "### Load data"
      ],
      "execution_count": 0,
      "outputs": []
    },
    {
      "cell_type": "markdown",
      "metadata": {
        "id": "OlpcpSyJ9ueA",
        "colab_type": "text"
      },
      "source": [
        "<a id=\"1\"></a>\n",
        "### Something"
      ]
    },
    {
      "cell_type": "code",
      "metadata": {
        "id": "23lN6g1z9ueB",
        "colab_type": "code",
        "colab": {}
      },
      "source": [
        ""
      ],
      "execution_count": 0,
      "outputs": []
    },
    {
      "cell_type": "markdown",
      "metadata": {
        "id": "bfx-wMpH9ueE",
        "colab_type": "text"
      },
      "source": [
        "<a id=\"2\"></a>\n",
        "### Something else"
      ]
    },
    {
      "cell_type": "code",
      "metadata": {
        "id": "y6mQmhLc9ueE",
        "colab_type": "code",
        "colab": {}
      },
      "source": [
        ""
      ],
      "execution_count": 0,
      "outputs": []
    },
    {
      "cell_type": "markdown",
      "metadata": {
        "id": "ueHHEloU9ueH",
        "colab_type": "text"
      },
      "source": [
        "<a id=\"3\"></a>\n",
        "### Another thing"
      ]
    },
    {
      "cell_type": "code",
      "metadata": {
        "id": "0HAjOiQD9ueH",
        "colab_type": "code",
        "colab": {}
      },
      "source": [
        ""
      ],
      "execution_count": 0,
      "outputs": []
    },
    {
      "cell_type": "markdown",
      "metadata": {
        "id": "tVopPGe49ueK",
        "colab_type": "text"
      },
      "source": [
        "<a id=\"preprocessing\"></a>\n",
        "## Data Preprocessing"
      ]
    },
    {
      "cell_type": "code",
      "metadata": {
        "id": "LX74-Yqg9ueL",
        "colab_type": "code",
        "colab": {}
      },
      "source": [
        ""
      ],
      "execution_count": 0,
      "outputs": []
    },
    {
      "cell_type": "markdown",
      "metadata": {
        "id": "azodLRCd9ueN",
        "colab_type": "text"
      },
      "source": [
        "<a id=\"modelling\"></a>\n",
        "## Modelling"
      ]
    },
    {
      "cell_type": "code",
      "metadata": {
        "id": "b7SHX2Xv9ueN",
        "colab_type": "code",
        "colab": {}
      },
      "source": [
        ""
      ],
      "execution_count": 0,
      "outputs": []
    },
    {
      "cell_type": "markdown",
      "metadata": {
        "id": "iIDIVKve9ueQ",
        "colab_type": "text"
      },
      "source": [
        "<a id=\"evaluation\"></a>\n",
        "## Performance Evaluation"
      ]
    },
    {
      "cell_type": "code",
      "metadata": {
        "id": "bT3dVZZW9ueQ",
        "colab_type": "code",
        "colab": {}
      },
      "source": [
        ""
      ],
      "execution_count": 0,
      "outputs": []
    },
    {
      "cell_type": "markdown",
      "metadata": {
        "id": "GaWl6nAF9ueS",
        "colab_type": "text"
      },
      "source": [
        "<a id=\"analysis\"></a>\n",
        "## Model Analysis"
      ]
    },
    {
      "cell_type": "code",
      "metadata": {
        "id": "vKl6WGYv9ueT",
        "colab_type": "code",
        "colab": {}
      },
      "source": [
        ""
      ],
      "execution_count": 0,
      "outputs": []
    },
    {
      "cell_type": "markdown",
      "metadata": {
        "id": "FTkuTt9R9ueV",
        "colab_type": "text"
      },
      "source": [
        "<a id=\"conclusion\"></a>\n",
        "## Conclusion"
      ]
    },
    {
      "cell_type": "markdown",
      "metadata": {
        "id": "BI0pkzT89ueW",
        "colab_type": "text"
      },
      "source": [
        "Thank you and goodnight...  \n",
        "Testing 1 2 3"
      ]
    },
    {
      "cell_type": "code",
      "metadata": {
        "id": "kERTYYwm9zEy",
        "colab_type": "code",
        "colab": {}
      },
      "source": [
        ""
      ],
      "execution_count": 0,
      "outputs": []
    }
  ]
}